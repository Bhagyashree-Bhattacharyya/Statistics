{
  "nbformat": 4,
  "nbformat_minor": 0,
  "metadata": {
    "colab": {
      "provenance": [],
      "authorship_tag": "ABX9TyN0JA7AXXzvAnJonV0Sfmce",
      "include_colab_link": true
    },
    "kernelspec": {
      "name": "python3",
      "display_name": "Python 3"
    },
    "language_info": {
      "name": "python"
    }
  },
  "cells": [
    {
      "cell_type": "markdown",
      "metadata": {
        "id": "view-in-github",
        "colab_type": "text"
      },
      "source": [
        "<a href=\"https://colab.research.google.com/github/Bhagyashree-Bhattacharyya/Statistics/blob/main/EDAprojects.ipynb\" target=\"_parent\"><img src=\"https://colab.research.google.com/assets/colab-badge.svg\" alt=\"Open In Colab\"/></a>"
      ]
    },
    {
      "cell_type": "code",
      "source": [
        "import numpy as np\n",
        "import pandas as pd\n",
        "import matplotlib.pyplot as plt\n",
        "import seaborn as sns"
      ],
      "metadata": {
        "id": "WJX1M8rVTRoB"
      },
      "execution_count": null,
      "outputs": []
    },
    {
      "cell_type": "markdown",
      "source": [
        "***Crimes in Boston City***"
      ],
      "metadata": {
        "id": "3Jb5NE8zSqIu"
      }
    },
    {
      "cell_type": "code",
      "execution_count": null,
      "metadata": {
        "colab": {
          "base_uri": "https://localhost:8080/"
        },
        "id": "NAmKKr_qSgx8",
        "outputId": "f2411ce9-6385-4c71-befd-8cbf20b7305f"
      },
      "outputs": [
        {
          "output_type": "stream",
          "name": "stdout",
          "text": [
            "--2023-05-29 16:17:59--  https://www.dropbox.com/s/cmtq2ukieeye3oy/Boston_crime.csv\n",
            "Resolving www.dropbox.com (www.dropbox.com)... 162.125.3.18, 2620:100:6018:18::a27d:312\n",
            "Connecting to www.dropbox.com (www.dropbox.com)|162.125.3.18|:443... connected.\n",
            "HTTP request sent, awaiting response... 302 Found\n",
            "Location: /s/raw/cmtq2ukieeye3oy/Boston_crime.csv [following]\n",
            "--2023-05-29 16:17:59--  https://www.dropbox.com/s/raw/cmtq2ukieeye3oy/Boston_crime.csv\n",
            "Reusing existing connection to www.dropbox.com:443.\n",
            "HTTP request sent, awaiting response... 302 Found\n",
            "Location: https://uc57e914069e3e955c1b298b43a4.dl.dropboxusercontent.com/cd/0/inline/B885_XUjixKupzUW6pgKCBmNNedmodswYfRvIEz4pQHbRnRSnviEpvTtejqbGRLjfvZndcbk7Olq6u7gkSCR04dg9BjXyh1zNF_-u2uy3YKOivZJaFnqPCwN2eFAx_yieU09apBIS7OY0gWTyo7cME2pLOICYzdqyy4g8SD9PnI7jw/file# [following]\n",
            "--2023-05-29 16:18:00--  https://uc57e914069e3e955c1b298b43a4.dl.dropboxusercontent.com/cd/0/inline/B885_XUjixKupzUW6pgKCBmNNedmodswYfRvIEz4pQHbRnRSnviEpvTtejqbGRLjfvZndcbk7Olq6u7gkSCR04dg9BjXyh1zNF_-u2uy3YKOivZJaFnqPCwN2eFAx_yieU09apBIS7OY0gWTyo7cME2pLOICYzdqyy4g8SD9PnI7jw/file\n",
            "Resolving uc57e914069e3e955c1b298b43a4.dl.dropboxusercontent.com (uc57e914069e3e955c1b298b43a4.dl.dropboxusercontent.com)... 162.125.3.15, 2620:100:6018:15::a27d:30f\n",
            "Connecting to uc57e914069e3e955c1b298b43a4.dl.dropboxusercontent.com (uc57e914069e3e955c1b298b43a4.dl.dropboxusercontent.com)|162.125.3.15|:443... connected.\n",
            "HTTP request sent, awaiting response... 200 OK\n",
            "Length: 51092357 (49M) [text/plain]\n",
            "Saving to: ‘Boston_crime.csv’\n",
            "\n",
            "Boston_crime.csv    100%[===================>]  48.72M  93.5MB/s    in 0.5s    \n",
            "\n",
            "2023-05-29 16:18:01 (93.5 MB/s) - ‘Boston_crime.csv’ saved [51092357/51092357]\n",
            "\n"
          ]
        }
      ],
      "source": [
        "!wget https://www.dropbox.com/s/cmtq2ukieeye3oy/Boston_crime.csv"
      ]
    },
    {
      "cell_type": "code",
      "source": [
        "df1 = pd.read_csv(\"Boston_crime.csv\", encoding='latin-1')\n",
        "df1.head()"
      ],
      "metadata": {
        "colab": {
          "base_uri": "https://localhost:8080/",
          "height": 357
        },
        "id": "AQA5_mdZTS2s",
        "outputId": "a9cfd4d9-aa35-479d-f10d-09302ecb1f9a"
      },
      "execution_count": null,
      "outputs": [
        {
          "output_type": "execute_result",
          "data": {
            "text/plain": [
              "  INCIDENT_NUMBER  OFFENSE_CODE    OFFENSE_CODE_GROUP   OFFENSE_DESCRIPTION  \\\n",
              "0      I182070945           619               Larceny    LARCENY ALL OTHERS   \n",
              "1      I182070943          1402             Vandalism             VANDALISM   \n",
              "2      I182070941          3410                 Towed   TOWED MOTOR VEHICLE   \n",
              "3      I182070940          3114  Investigate Property  INVESTIGATE PROPERTY   \n",
              "4      I182070938          3114  Investigate Property  INVESTIGATE PROPERTY   \n",
              "\n",
              "  DISTRICT REPORTING_AREA SHOOTING  YEAR  MONTH DAY_OF_WEEK  HOUR    UCR_PART  \\\n",
              "0      D14            808      NaN  2020      4      Sunday    13    Part One   \n",
              "1      C11            347      NaN  2020      4     Tuesday     0    Part Two   \n",
              "2       D4            151      NaN  2020      4      Monday    19  Part Three   \n",
              "3       D4            272      NaN  2020      4      Monday    21  Part Three   \n",
              "4       B3            421      NaN  2020      4      Monday    21  Part Three   \n",
              "\n",
              "        STREET        Lat       Long                     Location  \n",
              "0   LINCOLN ST  42.357791 -71.139371  (42.35779134, -71.13937053)  \n",
              "1     HECLA ST  42.306821 -71.060300  (42.30682138, -71.06030035)  \n",
              "2  CAZENOVE ST  42.346589 -71.072429  (42.34658879, -71.07242943)  \n",
              "3   NEWCOMB ST  42.334182 -71.078664  (42.33418175, -71.07866441)  \n",
              "4     DELHI ST  42.275365 -71.090361  (42.27536542, -71.09036101)  "
            ],
            "text/html": [
              "\n",
              "  <div id=\"df-70bf970a-1bad-411b-bbb2-8223fb456da8\">\n",
              "    <div class=\"colab-df-container\">\n",
              "      <div>\n",
              "<style scoped>\n",
              "    .dataframe tbody tr th:only-of-type {\n",
              "        vertical-align: middle;\n",
              "    }\n",
              "\n",
              "    .dataframe tbody tr th {\n",
              "        vertical-align: top;\n",
              "    }\n",
              "\n",
              "    .dataframe thead th {\n",
              "        text-align: right;\n",
              "    }\n",
              "</style>\n",
              "<table border=\"1\" class=\"dataframe\">\n",
              "  <thead>\n",
              "    <tr style=\"text-align: right;\">\n",
              "      <th></th>\n",
              "      <th>INCIDENT_NUMBER</th>\n",
              "      <th>OFFENSE_CODE</th>\n",
              "      <th>OFFENSE_CODE_GROUP</th>\n",
              "      <th>OFFENSE_DESCRIPTION</th>\n",
              "      <th>DISTRICT</th>\n",
              "      <th>REPORTING_AREA</th>\n",
              "      <th>SHOOTING</th>\n",
              "      <th>YEAR</th>\n",
              "      <th>MONTH</th>\n",
              "      <th>DAY_OF_WEEK</th>\n",
              "      <th>HOUR</th>\n",
              "      <th>UCR_PART</th>\n",
              "      <th>STREET</th>\n",
              "      <th>Lat</th>\n",
              "      <th>Long</th>\n",
              "      <th>Location</th>\n",
              "    </tr>\n",
              "  </thead>\n",
              "  <tbody>\n",
              "    <tr>\n",
              "      <th>0</th>\n",
              "      <td>I182070945</td>\n",
              "      <td>619</td>\n",
              "      <td>Larceny</td>\n",
              "      <td>LARCENY ALL OTHERS</td>\n",
              "      <td>D14</td>\n",
              "      <td>808</td>\n",
              "      <td>NaN</td>\n",
              "      <td>2020</td>\n",
              "      <td>4</td>\n",
              "      <td>Sunday</td>\n",
              "      <td>13</td>\n",
              "      <td>Part One</td>\n",
              "      <td>LINCOLN ST</td>\n",
              "      <td>42.357791</td>\n",
              "      <td>-71.139371</td>\n",
              "      <td>(42.35779134, -71.13937053)</td>\n",
              "    </tr>\n",
              "    <tr>\n",
              "      <th>1</th>\n",
              "      <td>I182070943</td>\n",
              "      <td>1402</td>\n",
              "      <td>Vandalism</td>\n",
              "      <td>VANDALISM</td>\n",
              "      <td>C11</td>\n",
              "      <td>347</td>\n",
              "      <td>NaN</td>\n",
              "      <td>2020</td>\n",
              "      <td>4</td>\n",
              "      <td>Tuesday</td>\n",
              "      <td>0</td>\n",
              "      <td>Part Two</td>\n",
              "      <td>HECLA ST</td>\n",
              "      <td>42.306821</td>\n",
              "      <td>-71.060300</td>\n",
              "      <td>(42.30682138, -71.06030035)</td>\n",
              "    </tr>\n",
              "    <tr>\n",
              "      <th>2</th>\n",
              "      <td>I182070941</td>\n",
              "      <td>3410</td>\n",
              "      <td>Towed</td>\n",
              "      <td>TOWED MOTOR VEHICLE</td>\n",
              "      <td>D4</td>\n",
              "      <td>151</td>\n",
              "      <td>NaN</td>\n",
              "      <td>2020</td>\n",
              "      <td>4</td>\n",
              "      <td>Monday</td>\n",
              "      <td>19</td>\n",
              "      <td>Part Three</td>\n",
              "      <td>CAZENOVE ST</td>\n",
              "      <td>42.346589</td>\n",
              "      <td>-71.072429</td>\n",
              "      <td>(42.34658879, -71.07242943)</td>\n",
              "    </tr>\n",
              "    <tr>\n",
              "      <th>3</th>\n",
              "      <td>I182070940</td>\n",
              "      <td>3114</td>\n",
              "      <td>Investigate Property</td>\n",
              "      <td>INVESTIGATE PROPERTY</td>\n",
              "      <td>D4</td>\n",
              "      <td>272</td>\n",
              "      <td>NaN</td>\n",
              "      <td>2020</td>\n",
              "      <td>4</td>\n",
              "      <td>Monday</td>\n",
              "      <td>21</td>\n",
              "      <td>Part Three</td>\n",
              "      <td>NEWCOMB ST</td>\n",
              "      <td>42.334182</td>\n",
              "      <td>-71.078664</td>\n",
              "      <td>(42.33418175, -71.07866441)</td>\n",
              "    </tr>\n",
              "    <tr>\n",
              "      <th>4</th>\n",
              "      <td>I182070938</td>\n",
              "      <td>3114</td>\n",
              "      <td>Investigate Property</td>\n",
              "      <td>INVESTIGATE PROPERTY</td>\n",
              "      <td>B3</td>\n",
              "      <td>421</td>\n",
              "      <td>NaN</td>\n",
              "      <td>2020</td>\n",
              "      <td>4</td>\n",
              "      <td>Monday</td>\n",
              "      <td>21</td>\n",
              "      <td>Part Three</td>\n",
              "      <td>DELHI ST</td>\n",
              "      <td>42.275365</td>\n",
              "      <td>-71.090361</td>\n",
              "      <td>(42.27536542, -71.09036101)</td>\n",
              "    </tr>\n",
              "  </tbody>\n",
              "</table>\n",
              "</div>\n",
              "      <button class=\"colab-df-convert\" onclick=\"convertToInteractive('df-70bf970a-1bad-411b-bbb2-8223fb456da8')\"\n",
              "              title=\"Convert this dataframe to an interactive table.\"\n",
              "              style=\"display:none;\">\n",
              "        \n",
              "  <svg xmlns=\"http://www.w3.org/2000/svg\" height=\"24px\"viewBox=\"0 0 24 24\"\n",
              "       width=\"24px\">\n",
              "    <path d=\"M0 0h24v24H0V0z\" fill=\"none\"/>\n",
              "    <path d=\"M18.56 5.44l.94 2.06.94-2.06 2.06-.94-2.06-.94-.94-2.06-.94 2.06-2.06.94zm-11 1L8.5 8.5l.94-2.06 2.06-.94-2.06-.94L8.5 2.5l-.94 2.06-2.06.94zm10 10l.94 2.06.94-2.06 2.06-.94-2.06-.94-.94-2.06-.94 2.06-2.06.94z\"/><path d=\"M17.41 7.96l-1.37-1.37c-.4-.4-.92-.59-1.43-.59-.52 0-1.04.2-1.43.59L10.3 9.45l-7.72 7.72c-.78.78-.78 2.05 0 2.83L4 21.41c.39.39.9.59 1.41.59.51 0 1.02-.2 1.41-.59l7.78-7.78 2.81-2.81c.8-.78.8-2.07 0-2.86zM5.41 20L4 18.59l7.72-7.72 1.47 1.35L5.41 20z\"/>\n",
              "  </svg>\n",
              "      </button>\n",
              "      \n",
              "  <style>\n",
              "    .colab-df-container {\n",
              "      display:flex;\n",
              "      flex-wrap:wrap;\n",
              "      gap: 12px;\n",
              "    }\n",
              "\n",
              "    .colab-df-convert {\n",
              "      background-color: #E8F0FE;\n",
              "      border: none;\n",
              "      border-radius: 50%;\n",
              "      cursor: pointer;\n",
              "      display: none;\n",
              "      fill: #1967D2;\n",
              "      height: 32px;\n",
              "      padding: 0 0 0 0;\n",
              "      width: 32px;\n",
              "    }\n",
              "\n",
              "    .colab-df-convert:hover {\n",
              "      background-color: #E2EBFA;\n",
              "      box-shadow: 0px 1px 2px rgba(60, 64, 67, 0.3), 0px 1px 3px 1px rgba(60, 64, 67, 0.15);\n",
              "      fill: #174EA6;\n",
              "    }\n",
              "\n",
              "    [theme=dark] .colab-df-convert {\n",
              "      background-color: #3B4455;\n",
              "      fill: #D2E3FC;\n",
              "    }\n",
              "\n",
              "    [theme=dark] .colab-df-convert:hover {\n",
              "      background-color: #434B5C;\n",
              "      box-shadow: 0px 1px 3px 1px rgba(0, 0, 0, 0.15);\n",
              "      filter: drop-shadow(0px 1px 2px rgba(0, 0, 0, 0.3));\n",
              "      fill: #FFFFFF;\n",
              "    }\n",
              "  </style>\n",
              "\n",
              "      <script>\n",
              "        const buttonEl =\n",
              "          document.querySelector('#df-70bf970a-1bad-411b-bbb2-8223fb456da8 button.colab-df-convert');\n",
              "        buttonEl.style.display =\n",
              "          google.colab.kernel.accessAllowed ? 'block' : 'none';\n",
              "\n",
              "        async function convertToInteractive(key) {\n",
              "          const element = document.querySelector('#df-70bf970a-1bad-411b-bbb2-8223fb456da8');\n",
              "          const dataTable =\n",
              "            await google.colab.kernel.invokeFunction('convertToInteractive',\n",
              "                                                     [key], {});\n",
              "          if (!dataTable) return;\n",
              "\n",
              "          const docLinkHtml = 'Like what you see? Visit the ' +\n",
              "            '<a target=\"_blank\" href=https://colab.research.google.com/notebooks/data_table.ipynb>data table notebook</a>'\n",
              "            + ' to learn more about interactive tables.';\n",
              "          element.innerHTML = '';\n",
              "          dataTable['output_type'] = 'display_data';\n",
              "          await google.colab.output.renderOutput(dataTable, element);\n",
              "          const docLink = document.createElement('div');\n",
              "          docLink.innerHTML = docLinkHtml;\n",
              "          element.appendChild(docLink);\n",
              "        }\n",
              "      </script>\n",
              "    </div>\n",
              "  </div>\n",
              "  "
            ]
          },
          "metadata": {},
          "execution_count": 3
        }
      ]
    },
    {
      "cell_type": "code",
      "source": [
        "df1['YEAR'].unique()"
      ],
      "metadata": {
        "colab": {
          "base_uri": "https://localhost:8080/"
        },
        "id": "W-enfqweUUZq",
        "outputId": "d17290b4-64b6-4798-9e27-62e8d96abe6d"
      },
      "execution_count": null,
      "outputs": [
        {
          "output_type": "execute_result",
          "data": {
            "text/plain": [
              "array([2020, 2019, 2018, 2016])"
            ]
          },
          "metadata": {},
          "execution_count": 4
        }
      ]
    },
    {
      "cell_type": "code",
      "source": [
        "df1.shape"
      ],
      "metadata": {
        "colab": {
          "base_uri": "https://localhost:8080/"
        },
        "id": "w5n2IfpaUr3H",
        "outputId": "d10ba9eb-0ba4-4f62-a9b0-7719d4fb450f"
      },
      "execution_count": null,
      "outputs": [
        {
          "output_type": "execute_result",
          "data": {
            "text/plain": [
              "(319073, 16)"
            ]
          },
          "metadata": {},
          "execution_count": 5
        }
      ]
    },
    {
      "cell_type": "markdown",
      "source": [
        "Let's not consider the beginning & ending year as they may content missing values, will take into account the 'Part One' crime only"
      ],
      "metadata": {
        "id": "TmrUwJ9qVn1G"
      }
    },
    {
      "cell_type": "code",
      "source": [
        "df1 = df1.loc[df1['YEAR'].isin([2018,2019])]\n",
        "df1 = df1.loc[df1['UCR_PART'] == 'Part One']\n",
        "df1.shape"
      ],
      "metadata": {
        "colab": {
          "base_uri": "https://localhost:8080/"
        },
        "id": "kEN-2uhoVfGo",
        "outputId": "81d28f32-f1fe-4da8-e61c-959fe50780ee"
      },
      "execution_count": null,
      "outputs": [
        {
          "output_type": "execute_result",
          "data": {
            "text/plain": [
              "(37538, 16)"
            ]
          },
          "metadata": {},
          "execution_count": 6
        }
      ]
    },
    {
      "cell_type": "code",
      "source": [
        "df1.dtypes"
      ],
      "metadata": {
        "colab": {
          "base_uri": "https://localhost:8080/"
        },
        "id": "GqWA55XKWE1O",
        "outputId": "b60a6919-2559-4aa1-992f-d17416567383"
      },
      "execution_count": null,
      "outputs": [
        {
          "output_type": "execute_result",
          "data": {
            "text/plain": [
              "INCIDENT_NUMBER         object\n",
              "OFFENSE_CODE             int64\n",
              "OFFENSE_CODE_GROUP      object\n",
              "OFFENSE_DESCRIPTION     object\n",
              "DISTRICT                object\n",
              "REPORTING_AREA          object\n",
              "SHOOTING                object\n",
              "YEAR                     int64\n",
              "MONTH                    int64\n",
              "DAY_OF_WEEK             object\n",
              "HOUR                     int64\n",
              "UCR_PART                object\n",
              "STREET                  object\n",
              "Lat                    float64\n",
              "Long                   float64\n",
              "Location                object\n",
              "dtype: object"
            ]
          },
          "metadata": {},
          "execution_count": 7
        }
      ]
    },
    {
      "cell_type": "code",
      "source": [
        "df1['DAY_OF_WEEK'] = pd.Categorical(df1['DAY_OF_WEEK'], categories = ['Monday', 'Tuesday', 'Wednesday', 'Thursday','Friday','Saturday','Sunday'],\n",
        "                                   ordered=True)\n",
        "df1.head()"
      ],
      "metadata": {
        "colab": {
          "base_uri": "https://localhost:8080/",
          "height": 409
        },
        "id": "G9QRJERZWKuB",
        "outputId": "801c719d-0bce-4ec2-d262-1330deca7ef2"
      },
      "execution_count": null,
      "outputs": [
        {
          "output_type": "execute_result",
          "data": {
            "text/plain": [
              "      INCIDENT_NUMBER  OFFENSE_CODE          OFFENSE_CODE_GROUP  \\\n",
              "5633       I182064766           617                     Larceny   \n",
              "5919       I182064449           706                  Auto Theft   \n",
              "6940       I182063310           522        Residential Burglary   \n",
              "12370      I182057388           614  Larceny From Motor Vehicle   \n",
              "14227      I182055406           617                     Larceny   \n",
              "\n",
              "                         OFFENSE_DESCRIPTION DISTRICT REPORTING_AREA SHOOTING  \\\n",
              "5633             LARCENY THEFT FROM BUILDING       E5            729      NaN   \n",
              "5919       AUTO THEFT - MOTORCYCLE / SCOOTER      E18            544      NaN   \n",
              "6940       BURGLARY - RESIDENTIAL - NO FORCE      D14            774      NaN   \n",
              "12370  LARCENY THEFT FROM MV - NON-ACCESSORY      E13            571      NaN   \n",
              "14227            LARCENY THEFT FROM BUILDING       D4            136      NaN   \n",
              "\n",
              "       YEAR  MONTH DAY_OF_WEEK  HOUR  UCR_PART            STREET        Lat  \\\n",
              "5633   2019     10      Monday    13  Part One          VFW PKWY  42.285370   \n",
              "5919   2019      3   Wednesday     9  Part One         AUSTIN ST  42.257688   \n",
              "6940   2019      3    Thursday    12  Part One  COMMONWEALTH AVE  42.338363   \n",
              "12370  2019     11     Tuesday    21  Part One         SYLVIA ST  42.310559   \n",
              "14227  2019     12      Friday    16  Part One    MARLBOROUGH ST  42.352569   \n",
              "\n",
              "            Long                     Location  \n",
              "5633  -71.172440  (42.28536992, -71.17244016)  \n",
              "5919  -71.126418  (42.25768764, -71.12641770)  \n",
              "6940  -71.154410  (42.33836272, -71.15441001)  \n",
              "12370 -71.102854  (42.31055889, -71.10285400)  \n",
              "14227 -71.079788  (42.35256908, -71.07978844)  "
            ],
            "text/html": [
              "\n",
              "  <div id=\"df-6a7c067c-7d57-4374-ad86-61aefe0adea3\">\n",
              "    <div class=\"colab-df-container\">\n",
              "      <div>\n",
              "<style scoped>\n",
              "    .dataframe tbody tr th:only-of-type {\n",
              "        vertical-align: middle;\n",
              "    }\n",
              "\n",
              "    .dataframe tbody tr th {\n",
              "        vertical-align: top;\n",
              "    }\n",
              "\n",
              "    .dataframe thead th {\n",
              "        text-align: right;\n",
              "    }\n",
              "</style>\n",
              "<table border=\"1\" class=\"dataframe\">\n",
              "  <thead>\n",
              "    <tr style=\"text-align: right;\">\n",
              "      <th></th>\n",
              "      <th>INCIDENT_NUMBER</th>\n",
              "      <th>OFFENSE_CODE</th>\n",
              "      <th>OFFENSE_CODE_GROUP</th>\n",
              "      <th>OFFENSE_DESCRIPTION</th>\n",
              "      <th>DISTRICT</th>\n",
              "      <th>REPORTING_AREA</th>\n",
              "      <th>SHOOTING</th>\n",
              "      <th>YEAR</th>\n",
              "      <th>MONTH</th>\n",
              "      <th>DAY_OF_WEEK</th>\n",
              "      <th>HOUR</th>\n",
              "      <th>UCR_PART</th>\n",
              "      <th>STREET</th>\n",
              "      <th>Lat</th>\n",
              "      <th>Long</th>\n",
              "      <th>Location</th>\n",
              "    </tr>\n",
              "  </thead>\n",
              "  <tbody>\n",
              "    <tr>\n",
              "      <th>5633</th>\n",
              "      <td>I182064766</td>\n",
              "      <td>617</td>\n",
              "      <td>Larceny</td>\n",
              "      <td>LARCENY THEFT FROM BUILDING</td>\n",
              "      <td>E5</td>\n",
              "      <td>729</td>\n",
              "      <td>NaN</td>\n",
              "      <td>2019</td>\n",
              "      <td>10</td>\n",
              "      <td>Monday</td>\n",
              "      <td>13</td>\n",
              "      <td>Part One</td>\n",
              "      <td>VFW PKWY</td>\n",
              "      <td>42.285370</td>\n",
              "      <td>-71.172440</td>\n",
              "      <td>(42.28536992, -71.17244016)</td>\n",
              "    </tr>\n",
              "    <tr>\n",
              "      <th>5919</th>\n",
              "      <td>I182064449</td>\n",
              "      <td>706</td>\n",
              "      <td>Auto Theft</td>\n",
              "      <td>AUTO THEFT - MOTORCYCLE / SCOOTER</td>\n",
              "      <td>E18</td>\n",
              "      <td>544</td>\n",
              "      <td>NaN</td>\n",
              "      <td>2019</td>\n",
              "      <td>3</td>\n",
              "      <td>Wednesday</td>\n",
              "      <td>9</td>\n",
              "      <td>Part One</td>\n",
              "      <td>AUSTIN ST</td>\n",
              "      <td>42.257688</td>\n",
              "      <td>-71.126418</td>\n",
              "      <td>(42.25768764, -71.12641770)</td>\n",
              "    </tr>\n",
              "    <tr>\n",
              "      <th>6940</th>\n",
              "      <td>I182063310</td>\n",
              "      <td>522</td>\n",
              "      <td>Residential Burglary</td>\n",
              "      <td>BURGLARY - RESIDENTIAL - NO FORCE</td>\n",
              "      <td>D14</td>\n",
              "      <td>774</td>\n",
              "      <td>NaN</td>\n",
              "      <td>2019</td>\n",
              "      <td>3</td>\n",
              "      <td>Thursday</td>\n",
              "      <td>12</td>\n",
              "      <td>Part One</td>\n",
              "      <td>COMMONWEALTH AVE</td>\n",
              "      <td>42.338363</td>\n",
              "      <td>-71.154410</td>\n",
              "      <td>(42.33836272, -71.15441001)</td>\n",
              "    </tr>\n",
              "    <tr>\n",
              "      <th>12370</th>\n",
              "      <td>I182057388</td>\n",
              "      <td>614</td>\n",
              "      <td>Larceny From Motor Vehicle</td>\n",
              "      <td>LARCENY THEFT FROM MV - NON-ACCESSORY</td>\n",
              "      <td>E13</td>\n",
              "      <td>571</td>\n",
              "      <td>NaN</td>\n",
              "      <td>2019</td>\n",
              "      <td>11</td>\n",
              "      <td>Tuesday</td>\n",
              "      <td>21</td>\n",
              "      <td>Part One</td>\n",
              "      <td>SYLVIA ST</td>\n",
              "      <td>42.310559</td>\n",
              "      <td>-71.102854</td>\n",
              "      <td>(42.31055889, -71.10285400)</td>\n",
              "    </tr>\n",
              "    <tr>\n",
              "      <th>14227</th>\n",
              "      <td>I182055406</td>\n",
              "      <td>617</td>\n",
              "      <td>Larceny</td>\n",
              "      <td>LARCENY THEFT FROM BUILDING</td>\n",
              "      <td>D4</td>\n",
              "      <td>136</td>\n",
              "      <td>NaN</td>\n",
              "      <td>2019</td>\n",
              "      <td>12</td>\n",
              "      <td>Friday</td>\n",
              "      <td>16</td>\n",
              "      <td>Part One</td>\n",
              "      <td>MARLBOROUGH ST</td>\n",
              "      <td>42.352569</td>\n",
              "      <td>-71.079788</td>\n",
              "      <td>(42.35256908, -71.07978844)</td>\n",
              "    </tr>\n",
              "  </tbody>\n",
              "</table>\n",
              "</div>\n",
              "      <button class=\"colab-df-convert\" onclick=\"convertToInteractive('df-6a7c067c-7d57-4374-ad86-61aefe0adea3')\"\n",
              "              title=\"Convert this dataframe to an interactive table.\"\n",
              "              style=\"display:none;\">\n",
              "        \n",
              "  <svg xmlns=\"http://www.w3.org/2000/svg\" height=\"24px\"viewBox=\"0 0 24 24\"\n",
              "       width=\"24px\">\n",
              "    <path d=\"M0 0h24v24H0V0z\" fill=\"none\"/>\n",
              "    <path d=\"M18.56 5.44l.94 2.06.94-2.06 2.06-.94-2.06-.94-.94-2.06-.94 2.06-2.06.94zm-11 1L8.5 8.5l.94-2.06 2.06-.94-2.06-.94L8.5 2.5l-.94 2.06-2.06.94zm10 10l.94 2.06.94-2.06 2.06-.94-2.06-.94-.94-2.06-.94 2.06-2.06.94z\"/><path d=\"M17.41 7.96l-1.37-1.37c-.4-.4-.92-.59-1.43-.59-.52 0-1.04.2-1.43.59L10.3 9.45l-7.72 7.72c-.78.78-.78 2.05 0 2.83L4 21.41c.39.39.9.59 1.41.59.51 0 1.02-.2 1.41-.59l7.78-7.78 2.81-2.81c.8-.78.8-2.07 0-2.86zM5.41 20L4 18.59l7.72-7.72 1.47 1.35L5.41 20z\"/>\n",
              "  </svg>\n",
              "      </button>\n",
              "      \n",
              "  <style>\n",
              "    .colab-df-container {\n",
              "      display:flex;\n",
              "      flex-wrap:wrap;\n",
              "      gap: 12px;\n",
              "    }\n",
              "\n",
              "    .colab-df-convert {\n",
              "      background-color: #E8F0FE;\n",
              "      border: none;\n",
              "      border-radius: 50%;\n",
              "      cursor: pointer;\n",
              "      display: none;\n",
              "      fill: #1967D2;\n",
              "      height: 32px;\n",
              "      padding: 0 0 0 0;\n",
              "      width: 32px;\n",
              "    }\n",
              "\n",
              "    .colab-df-convert:hover {\n",
              "      background-color: #E2EBFA;\n",
              "      box-shadow: 0px 1px 2px rgba(60, 64, 67, 0.3), 0px 1px 3px 1px rgba(60, 64, 67, 0.15);\n",
              "      fill: #174EA6;\n",
              "    }\n",
              "\n",
              "    [theme=dark] .colab-df-convert {\n",
              "      background-color: #3B4455;\n",
              "      fill: #D2E3FC;\n",
              "    }\n",
              "\n",
              "    [theme=dark] .colab-df-convert:hover {\n",
              "      background-color: #434B5C;\n",
              "      box-shadow: 0px 1px 3px 1px rgba(0, 0, 0, 0.15);\n",
              "      filter: drop-shadow(0px 1px 2px rgba(0, 0, 0, 0.3));\n",
              "      fill: #FFFFFF;\n",
              "    }\n",
              "  </style>\n",
              "\n",
              "      <script>\n",
              "        const buttonEl =\n",
              "          document.querySelector('#df-6a7c067c-7d57-4374-ad86-61aefe0adea3 button.colab-df-convert');\n",
              "        buttonEl.style.display =\n",
              "          google.colab.kernel.accessAllowed ? 'block' : 'none';\n",
              "\n",
              "        async function convertToInteractive(key) {\n",
              "          const element = document.querySelector('#df-6a7c067c-7d57-4374-ad86-61aefe0adea3');\n",
              "          const dataTable =\n",
              "            await google.colab.kernel.invokeFunction('convertToInteractive',\n",
              "                                                     [key], {});\n",
              "          if (!dataTable) return;\n",
              "\n",
              "          const docLinkHtml = 'Like what you see? Visit the ' +\n",
              "            '<a target=\"_blank\" href=https://colab.research.google.com/notebooks/data_table.ipynb>data table notebook</a>'\n",
              "            + ' to learn more about interactive tables.';\n",
              "          element.innerHTML = '';\n",
              "          dataTable['output_type'] = 'display_data';\n",
              "          await google.colab.output.renderOutput(dataTable, element);\n",
              "          const docLink = document.createElement('div');\n",
              "          docLink.innerHTML = docLinkHtml;\n",
              "          element.appendChild(docLink);\n",
              "        }\n",
              "      </script>\n",
              "    </div>\n",
              "  </div>\n",
              "  "
            ]
          },
          "metadata": {},
          "execution_count": 8
        }
      ]
    },
    {
      "cell_type": "code",
      "source": [
        "df1.dtypes"
      ],
      "metadata": {
        "colab": {
          "base_uri": "https://localhost:8080/"
        },
        "id": "cBpnbxExWvOX",
        "outputId": "04b88c76-d261-49d1-f597-ccb35ab71b7a"
      },
      "execution_count": null,
      "outputs": [
        {
          "output_type": "execute_result",
          "data": {
            "text/plain": [
              "INCIDENT_NUMBER          object\n",
              "OFFENSE_CODE              int64\n",
              "OFFENSE_CODE_GROUP       object\n",
              "OFFENSE_DESCRIPTION      object\n",
              "DISTRICT                 object\n",
              "REPORTING_AREA           object\n",
              "SHOOTING                 object\n",
              "YEAR                      int64\n",
              "MONTH                     int64\n",
              "DAY_OF_WEEK            category\n",
              "HOUR                      int64\n",
              "UCR_PART                 object\n",
              "STREET                   object\n",
              "Lat                     float64\n",
              "Long                    float64\n",
              "Location                 object\n",
              "dtype: object"
            ]
          },
          "metadata": {},
          "execution_count": 9
        }
      ]
    },
    {
      "cell_type": "code",
      "source": [
        "df1.drop(columns=['INCIDENT_NUMBER','OFFENSE_CODE'],inplace=True)\n",
        "df1.head()"
      ],
      "metadata": {
        "colab": {
          "base_uri": "https://localhost:8080/",
          "height": 409
        },
        "id": "INLDObHBW-Ir",
        "outputId": "b98c14c5-47a7-4fd2-bcbc-9976837ec641"
      },
      "execution_count": null,
      "outputs": [
        {
          "output_type": "execute_result",
          "data": {
            "text/plain": [
              "               OFFENSE_CODE_GROUP                    OFFENSE_DESCRIPTION  \\\n",
              "5633                      Larceny            LARCENY THEFT FROM BUILDING   \n",
              "5919                   Auto Theft      AUTO THEFT - MOTORCYCLE / SCOOTER   \n",
              "6940         Residential Burglary      BURGLARY - RESIDENTIAL - NO FORCE   \n",
              "12370  Larceny From Motor Vehicle  LARCENY THEFT FROM MV - NON-ACCESSORY   \n",
              "14227                     Larceny            LARCENY THEFT FROM BUILDING   \n",
              "\n",
              "      DISTRICT REPORTING_AREA SHOOTING  YEAR  MONTH DAY_OF_WEEK  HOUR  \\\n",
              "5633        E5            729      NaN  2019     10      Monday    13   \n",
              "5919       E18            544      NaN  2019      3   Wednesday     9   \n",
              "6940       D14            774      NaN  2019      3    Thursday    12   \n",
              "12370      E13            571      NaN  2019     11     Tuesday    21   \n",
              "14227       D4            136      NaN  2019     12      Friday    16   \n",
              "\n",
              "       UCR_PART            STREET        Lat       Long  \\\n",
              "5633   Part One          VFW PKWY  42.285370 -71.172440   \n",
              "5919   Part One         AUSTIN ST  42.257688 -71.126418   \n",
              "6940   Part One  COMMONWEALTH AVE  42.338363 -71.154410   \n",
              "12370  Part One         SYLVIA ST  42.310559 -71.102854   \n",
              "14227  Part One    MARLBOROUGH ST  42.352569 -71.079788   \n",
              "\n",
              "                          Location  \n",
              "5633   (42.28536992, -71.17244016)  \n",
              "5919   (42.25768764, -71.12641770)  \n",
              "6940   (42.33836272, -71.15441001)  \n",
              "12370  (42.31055889, -71.10285400)  \n",
              "14227  (42.35256908, -71.07978844)  "
            ],
            "text/html": [
              "\n",
              "  <div id=\"df-c0ea4e56-b752-4fcb-b8a5-8f33ded9bd6c\">\n",
              "    <div class=\"colab-df-container\">\n",
              "      <div>\n",
              "<style scoped>\n",
              "    .dataframe tbody tr th:only-of-type {\n",
              "        vertical-align: middle;\n",
              "    }\n",
              "\n",
              "    .dataframe tbody tr th {\n",
              "        vertical-align: top;\n",
              "    }\n",
              "\n",
              "    .dataframe thead th {\n",
              "        text-align: right;\n",
              "    }\n",
              "</style>\n",
              "<table border=\"1\" class=\"dataframe\">\n",
              "  <thead>\n",
              "    <tr style=\"text-align: right;\">\n",
              "      <th></th>\n",
              "      <th>OFFENSE_CODE_GROUP</th>\n",
              "      <th>OFFENSE_DESCRIPTION</th>\n",
              "      <th>DISTRICT</th>\n",
              "      <th>REPORTING_AREA</th>\n",
              "      <th>SHOOTING</th>\n",
              "      <th>YEAR</th>\n",
              "      <th>MONTH</th>\n",
              "      <th>DAY_OF_WEEK</th>\n",
              "      <th>HOUR</th>\n",
              "      <th>UCR_PART</th>\n",
              "      <th>STREET</th>\n",
              "      <th>Lat</th>\n",
              "      <th>Long</th>\n",
              "      <th>Location</th>\n",
              "    </tr>\n",
              "  </thead>\n",
              "  <tbody>\n",
              "    <tr>\n",
              "      <th>5633</th>\n",
              "      <td>Larceny</td>\n",
              "      <td>LARCENY THEFT FROM BUILDING</td>\n",
              "      <td>E5</td>\n",
              "      <td>729</td>\n",
              "      <td>NaN</td>\n",
              "      <td>2019</td>\n",
              "      <td>10</td>\n",
              "      <td>Monday</td>\n",
              "      <td>13</td>\n",
              "      <td>Part One</td>\n",
              "      <td>VFW PKWY</td>\n",
              "      <td>42.285370</td>\n",
              "      <td>-71.172440</td>\n",
              "      <td>(42.28536992, -71.17244016)</td>\n",
              "    </tr>\n",
              "    <tr>\n",
              "      <th>5919</th>\n",
              "      <td>Auto Theft</td>\n",
              "      <td>AUTO THEFT - MOTORCYCLE / SCOOTER</td>\n",
              "      <td>E18</td>\n",
              "      <td>544</td>\n",
              "      <td>NaN</td>\n",
              "      <td>2019</td>\n",
              "      <td>3</td>\n",
              "      <td>Wednesday</td>\n",
              "      <td>9</td>\n",
              "      <td>Part One</td>\n",
              "      <td>AUSTIN ST</td>\n",
              "      <td>42.257688</td>\n",
              "      <td>-71.126418</td>\n",
              "      <td>(42.25768764, -71.12641770)</td>\n",
              "    </tr>\n",
              "    <tr>\n",
              "      <th>6940</th>\n",
              "      <td>Residential Burglary</td>\n",
              "      <td>BURGLARY - RESIDENTIAL - NO FORCE</td>\n",
              "      <td>D14</td>\n",
              "      <td>774</td>\n",
              "      <td>NaN</td>\n",
              "      <td>2019</td>\n",
              "      <td>3</td>\n",
              "      <td>Thursday</td>\n",
              "      <td>12</td>\n",
              "      <td>Part One</td>\n",
              "      <td>COMMONWEALTH AVE</td>\n",
              "      <td>42.338363</td>\n",
              "      <td>-71.154410</td>\n",
              "      <td>(42.33836272, -71.15441001)</td>\n",
              "    </tr>\n",
              "    <tr>\n",
              "      <th>12370</th>\n",
              "      <td>Larceny From Motor Vehicle</td>\n",
              "      <td>LARCENY THEFT FROM MV - NON-ACCESSORY</td>\n",
              "      <td>E13</td>\n",
              "      <td>571</td>\n",
              "      <td>NaN</td>\n",
              "      <td>2019</td>\n",
              "      <td>11</td>\n",
              "      <td>Tuesday</td>\n",
              "      <td>21</td>\n",
              "      <td>Part One</td>\n",
              "      <td>SYLVIA ST</td>\n",
              "      <td>42.310559</td>\n",
              "      <td>-71.102854</td>\n",
              "      <td>(42.31055889, -71.10285400)</td>\n",
              "    </tr>\n",
              "    <tr>\n",
              "      <th>14227</th>\n",
              "      <td>Larceny</td>\n",
              "      <td>LARCENY THEFT FROM BUILDING</td>\n",
              "      <td>D4</td>\n",
              "      <td>136</td>\n",
              "      <td>NaN</td>\n",
              "      <td>2019</td>\n",
              "      <td>12</td>\n",
              "      <td>Friday</td>\n",
              "      <td>16</td>\n",
              "      <td>Part One</td>\n",
              "      <td>MARLBOROUGH ST</td>\n",
              "      <td>42.352569</td>\n",
              "      <td>-71.079788</td>\n",
              "      <td>(42.35256908, -71.07978844)</td>\n",
              "    </tr>\n",
              "  </tbody>\n",
              "</table>\n",
              "</div>\n",
              "      <button class=\"colab-df-convert\" onclick=\"convertToInteractive('df-c0ea4e56-b752-4fcb-b8a5-8f33ded9bd6c')\"\n",
              "              title=\"Convert this dataframe to an interactive table.\"\n",
              "              style=\"display:none;\">\n",
              "        \n",
              "  <svg xmlns=\"http://www.w3.org/2000/svg\" height=\"24px\"viewBox=\"0 0 24 24\"\n",
              "       width=\"24px\">\n",
              "    <path d=\"M0 0h24v24H0V0z\" fill=\"none\"/>\n",
              "    <path d=\"M18.56 5.44l.94 2.06.94-2.06 2.06-.94-2.06-.94-.94-2.06-.94 2.06-2.06.94zm-11 1L8.5 8.5l.94-2.06 2.06-.94-2.06-.94L8.5 2.5l-.94 2.06-2.06.94zm10 10l.94 2.06.94-2.06 2.06-.94-2.06-.94-.94-2.06-.94 2.06-2.06.94z\"/><path d=\"M17.41 7.96l-1.37-1.37c-.4-.4-.92-.59-1.43-.59-.52 0-1.04.2-1.43.59L10.3 9.45l-7.72 7.72c-.78.78-.78 2.05 0 2.83L4 21.41c.39.39.9.59 1.41.59.51 0 1.02-.2 1.41-.59l7.78-7.78 2.81-2.81c.8-.78.8-2.07 0-2.86zM5.41 20L4 18.59l7.72-7.72 1.47 1.35L5.41 20z\"/>\n",
              "  </svg>\n",
              "      </button>\n",
              "      \n",
              "  <style>\n",
              "    .colab-df-container {\n",
              "      display:flex;\n",
              "      flex-wrap:wrap;\n",
              "      gap: 12px;\n",
              "    }\n",
              "\n",
              "    .colab-df-convert {\n",
              "      background-color: #E8F0FE;\n",
              "      border: none;\n",
              "      border-radius: 50%;\n",
              "      cursor: pointer;\n",
              "      display: none;\n",
              "      fill: #1967D2;\n",
              "      height: 32px;\n",
              "      padding: 0 0 0 0;\n",
              "      width: 32px;\n",
              "    }\n",
              "\n",
              "    .colab-df-convert:hover {\n",
              "      background-color: #E2EBFA;\n",
              "      box-shadow: 0px 1px 2px rgba(60, 64, 67, 0.3), 0px 1px 3px 1px rgba(60, 64, 67, 0.15);\n",
              "      fill: #174EA6;\n",
              "    }\n",
              "\n",
              "    [theme=dark] .colab-df-convert {\n",
              "      background-color: #3B4455;\n",
              "      fill: #D2E3FC;\n",
              "    }\n",
              "\n",
              "    [theme=dark] .colab-df-convert:hover {\n",
              "      background-color: #434B5C;\n",
              "      box-shadow: 0px 1px 3px 1px rgba(0, 0, 0, 0.15);\n",
              "      filter: drop-shadow(0px 1px 2px rgba(0, 0, 0, 0.3));\n",
              "      fill: #FFFFFF;\n",
              "    }\n",
              "  </style>\n",
              "\n",
              "      <script>\n",
              "        const buttonEl =\n",
              "          document.querySelector('#df-c0ea4e56-b752-4fcb-b8a5-8f33ded9bd6c button.colab-df-convert');\n",
              "        buttonEl.style.display =\n",
              "          google.colab.kernel.accessAllowed ? 'block' : 'none';\n",
              "\n",
              "        async function convertToInteractive(key) {\n",
              "          const element = document.querySelector('#df-c0ea4e56-b752-4fcb-b8a5-8f33ded9bd6c');\n",
              "          const dataTable =\n",
              "            await google.colab.kernel.invokeFunction('convertToInteractive',\n",
              "                                                     [key], {});\n",
              "          if (!dataTable) return;\n",
              "\n",
              "          const docLinkHtml = 'Like what you see? Visit the ' +\n",
              "            '<a target=\"_blank\" href=https://colab.research.google.com/notebooks/data_table.ipynb>data table notebook</a>'\n",
              "            + ' to learn more about interactive tables.';\n",
              "          element.innerHTML = '';\n",
              "          dataTable['output_type'] = 'display_data';\n",
              "          await google.colab.output.renderOutput(dataTable, element);\n",
              "          const docLink = document.createElement('div');\n",
              "          docLink.innerHTML = docLinkHtml;\n",
              "          element.appendChild(docLink);\n",
              "        }\n",
              "      </script>\n",
              "    </div>\n",
              "  </div>\n",
              "  "
            ]
          },
          "metadata": {},
          "execution_count": 10
        }
      ]
    },
    {
      "cell_type": "markdown",
      "source": [
        "*Visualizing the Serious Crimes*"
      ],
      "metadata": {
        "id": "PrbXDY3IXHI9"
      }
    },
    {
      "cell_type": "code",
      "source": [
        "df1['OFFENSE_CODE_GROUP'].unique()"
      ],
      "metadata": {
        "colab": {
          "base_uri": "https://localhost:8080/"
        },
        "id": "P_YafeaWXPfP",
        "outputId": "5b3442b5-dc39-48ea-e05e-b05da79f6190"
      },
      "execution_count": null,
      "outputs": [
        {
          "output_type": "execute_result",
          "data": {
            "text/plain": [
              "array(['Larceny', 'Auto Theft', 'Residential Burglary',\n",
              "       'Larceny From Motor Vehicle', 'Aggravated Assault', 'Robbery',\n",
              "       'Other Burglary', 'Commercial Burglary', 'Homicide'], dtype=object)"
            ]
          },
          "metadata": {},
          "execution_count": 12
        }
      ]
    },
    {
      "cell_type": "code",
      "source": [
        "df1['OFFENSE_CODE_GROUP'].value_counts().index"
      ],
      "metadata": {
        "colab": {
          "base_uri": "https://localhost:8080/"
        },
        "id": "L25muTevXuIw",
        "outputId": "9cf33c65-0d1b-48ca-9106-08a1a51cecd3"
      },
      "execution_count": null,
      "outputs": [
        {
          "output_type": "execute_result",
          "data": {
            "text/plain": [
              "Index(['Larceny', 'Larceny From Motor Vehicle', 'Aggravated Assault',\n",
              "       'Residential Burglary', 'Auto Theft', 'Robbery', 'Commercial Burglary',\n",
              "       'Other Burglary', 'Homicide'],\n",
              "      dtype='object')"
            ]
          },
          "metadata": {},
          "execution_count": 13
        }
      ]
    },
    {
      "cell_type": "code",
      "source": [
        "sns.catplot(y='OFFENSE_CODE_GROUP',\n",
        "            kind='count',\n",
        "            height=11,\n",
        "            aspect=1.0,\n",
        "            order = df1['OFFENSE_CODE_GROUP'].unique(),\n",
        "            data=df1)\n",
        "plt.show()"
      ],
      "metadata": {
        "colab": {
          "base_uri": "https://localhost:8080/",
          "height": 713
        },
        "id": "vy21ToiNX36M",
        "outputId": "e65aeccf-1fcd-42ac-93f4-ceb17be72bfd"
      },
      "execution_count": null,
      "outputs": [
        {
          "output_type": "display_data",
          "data": {
            "text/plain": [
              "<Figure size 1100x1100 with 1 Axes>"
            ],
            "image/png": "[encoded data removed]"
          },
          "metadata": {}
        }
      ]
    },
    {
      "cell_type": "markdown",
      "source": [
        "*Occurance of Serious crime by hour*"
      ],
      "metadata": {
        "id": "9GSmZvzxYFcx"
      }
    },
    {
      "cell_type": "code",
      "source": [
        "sns.catplot(x='HOUR',\n",
        "            kind='count',\n",
        "            height=7,\n",
        "            aspect=1.0,\n",
        "            data=df1)\n",
        "plt.show()"
      ],
      "metadata": {
        "colab": {
          "base_uri": "https://localhost:8080/",
          "height": 707
        },
        "id": "NmcB2F3vYOJn",
        "outputId": "3ad532ec-2c92-40c4-d90e-442dc88d3e5b"
      },
      "execution_count": null,
      "outputs": [
        {
          "output_type": "display_data",
          "data": {
            "text/plain": [
              "<Figure size 700x700 with 1 Axes>"
            ],
            "image/png": "[encoded data removed]"
          },
          "metadata": {}
        }
      ]
    },
    {
      "cell_type": "markdown",
      "source": [
        "*Occurrence of Serious Crime by day of the week*"
      ],
      "metadata": {
        "id": "S0TgzPoPYir6"
      }
    },
    {
      "cell_type": "code",
      "source": [
        "sns.catplot(x='DAY_OF_WEEK',\n",
        "            kind='count',\n",
        "            height=5,\n",
        "            aspect=1.0,\n",
        "            data=df1)\n",
        "plt.xticks(rotation=90)\n",
        "plt.show()"
      ],
      "metadata": {
        "colab": {
          "base_uri": "https://localhost:8080/",
          "height": 573
        },
        "id": "kStPcBTSYsfn",
        "outputId": "249f48af-26dd-459f-a408-74e3f0caecaa"
      },
      "execution_count": null,
      "outputs": [
        {
          "output_type": "display_data",
          "data": {
            "text/plain": [
              "<Figure size 500x500 with 1 Axes>"
            ],
            "image/png": "[encoded data removed]"
          },
          "metadata": {}
        }
      ]
    },
    {
      "cell_type": "markdown",
      "source": [
        "***PUBG Game data Analysis***"
      ],
      "metadata": {
        "id": "KLtaJPxvY36_"
      }
    },
    {
      "cell_type": "code",
      "source": [
        "import numpy as np\n",
        "import pandas as pd\n",
        "import matplotlib.pyplot as plt\n",
        "import seaborn as sns"
      ],
      "metadata": {
        "id": "JhdbIfWQd_in"
      },
      "execution_count": null,
      "outputs": []
    },
    {
      "cell_type": "code",
      "source": [
        "# Place the Google Drive Sharing link\n",
        "file_share_link = \"https://drive.google.com/file/d/1rtFoGsbmr2pw2BKKjKzmVbtD9nZiHCnR/view?usp=sharing\"\n",
        "\n",
        "# extract the ID of the file\n",
        "file_id = file_share_link[file_share_link.find(\"d/\")+2 : file_share_link.find(\"/v\")]\n",
        "print(file_id)\n",
        "!gdown \"$file_id\" # Download the data from Google Drive"
      ],
      "metadata": {
        "colab": {
          "base_uri": "https://localhost:8080/"
        },
        "id": "i-PUqT_hZa65",
        "outputId": "62468d6b-6c1d-4e8c-ac0a-78ba8a67235c"
      },
      "execution_count": null,
      "outputs": [
        {
          "output_type": "stream",
          "name": "stdout",
          "text": [
            "1rtFoGsbmr2pw2BKKjKzmVbtD9nZiHCnR\n",
            "Downloading...\n",
            "From: https://drive.google.com/uc?id=1rtFoGsbmr2pw2BKKjKzmVbtD9nZiHCnR\n",
            "To: /content/PUBG.csv\n",
            "100% 660M/660M [00:08<00:00, 80.1MB/s]\n"
          ]
        }
      ]
    },
    {
      "cell_type": "code",
      "source": [
        "df2 = pd.read_csv(\"PUBG.csv\")\n",
        "df2.head()"
      ],
      "metadata": {
        "colab": {
          "base_uri": "https://localhost:8080/",
          "height": 300
        },
        "id": "YRtVMBtrZiqN",
        "outputId": "6a937426-5881-4047-988e-c25b86acf48f"
      },
      "execution_count": null,
      "outputs": [
        {
          "output_type": "execute_result",
          "data": {
            "text/plain": [
              "               Id         groupId         matchId  assists  boosts  \\\n",
              "0  7f96b2f878858a  4d4b580de459be  a10357fd1a4a91        0       0   \n",
              "1  eef90569b9d03c  684d5656442f9e  aeb375fc57110c        0       0   \n",
              "2  1eaf90ac73de72  6a4a42c3245a74  110163d8bb94ae        1       0   \n",
              "3  4616d365dd2853  a930a9c79cd721  f1f1f4ef412d7e        0       0   \n",
              "4  315c96c26c9aac  de04010b3458dd  6dc8ff871e21e6        0       0   \n",
              "\n",
              "   damageDealt  DBNOs  headshotKills  heals  killPlace  ...  revives  \\\n",
              "0         0.00      0              0      0         60  ...        0   \n",
              "1        91.47      0              0      0         57  ...        0   \n",
              "2        68.00      0              0      0         47  ...        0   \n",
              "3        32.90      0              0      0         75  ...        0   \n",
              "4       100.00      0              0      0         45  ...        0   \n",
              "\n",
              "   rideDistance  roadKills  swimDistance  teamKills vehicleDestroys  \\\n",
              "0        0.0000          0          0.00          0               0   \n",
              "1        0.0045          0         11.04          0               0   \n",
              "2        0.0000          0          0.00          0               0   \n",
              "3        0.0000          0          0.00          0               0   \n",
              "4        0.0000          0          0.00          0               0   \n",
              "\n",
              "   walkDistance  weaponsAcquired  winPoints  winPlacePerc  \n",
              "0        244.80                1       1466        0.4444  \n",
              "1       1434.00                5          0        0.6400  \n",
              "2        161.80                2          0        0.7755  \n",
              "3        202.70                3          0        0.1667  \n",
              "4         49.75                2          0        0.1875  \n",
              "\n",
              "[5 rows x 29 columns]"
            ],
            "text/html": [
              "\n",
              "  <div id=\"df-ceb79192-9700-47ae-b9ef-6a13abaf5add\">\n",
              "    <div class=\"colab-df-container\">\n",
              "      <div>\n",
              "<style scoped>\n",
              "    .dataframe tbody tr th:only-of-type {\n",
              "        vertical-align: middle;\n",
              "    }\n",
              "\n",
              "    .dataframe tbody tr th {\n",
              "        vertical-align: top;\n",
              "    }\n",
              "\n",
              "    .dataframe thead th {\n",
              "        text-align: right;\n",
              "    }\n",
              "</style>\n",
              "<table border=\"1\" class=\"dataframe\">\n",
              "  <thead>\n",
              "    <tr style=\"text-align: right;\">\n",
              "      <th></th>\n",
              "      <th>Id</th>\n",
              "      <th>groupId</th>\n",
              "      <th>matchId</th>\n",
              "      <th>assists</th>\n",
              "      <th>boosts</th>\n",
              "      <th>damageDealt</th>\n",
              "      <th>DBNOs</th>\n",
              "      <th>headshotKills</th>\n",
              "      <th>heals</th>\n",
              "      <th>killPlace</th>\n",
              "      <th>...</th>\n",
              "      <th>revives</th>\n",
              "      <th>rideDistance</th>\n",
              "      <th>roadKills</th>\n",
              "      <th>swimDistance</th>\n",
              "      <th>teamKills</th>\n",
              "      <th>vehicleDestroys</th>\n",
              "      <th>walkDistance</th>\n",
              "      <th>weaponsAcquired</th>\n",
              "      <th>winPoints</th>\n",
              "      <th>winPlacePerc</th>\n",
              "    </tr>\n",
              "  </thead>\n",
              "  <tbody>\n",
              "    <tr>\n",
              "      <th>0</th>\n",
              "      <td>7f96b2f878858a</td>\n",
              "      <td>4d4b580de459be</td>\n",
              "      <td>a10357fd1a4a91</td>\n",
              "      <td>0</td>\n",
              "      <td>0</td>\n",
              "      <td>0.00</td>\n",
              "      <td>0</td>\n",
              "      <td>0</td>\n",
              "      <td>0</td>\n",
              "      <td>60</td>\n",
              "      <td>...</td>\n",
              "      <td>0</td>\n",
              "      <td>0.0000</td>\n",
              "      <td>0</td>\n",
              "      <td>0.00</td>\n",
              "      <td>0</td>\n",
              "      <td>0</td>\n",
              "      <td>244.80</td>\n",
              "      <td>1</td>\n",
              "      <td>1466</td>\n",
              "      <td>0.4444</td>\n",
              "    </tr>\n",
              "    <tr>\n",
              "      <th>1</th>\n",
              "      <td>eef90569b9d03c</td>\n",
              "      <td>684d5656442f9e</td>\n",
              "      <td>aeb375fc57110c</td>\n",
              "      <td>0</td>\n",
              "      <td>0</td>\n",
              "      <td>91.47</td>\n",
              "      <td>0</td>\n",
              "      <td>0</td>\n",
              "      <td>0</td>\n",
              "      <td>57</td>\n",
              "      <td>...</td>\n",
              "      <td>0</td>\n",
              "      <td>0.0045</td>\n",
              "      <td>0</td>\n",
              "      <td>11.04</td>\n",
              "      <td>0</td>\n",
              "      <td>0</td>\n",
              "      <td>1434.00</td>\n",
              "      <td>5</td>\n",
              "      <td>0</td>\n",
              "      <td>0.6400</td>\n",
              "    </tr>\n",
              "    <tr>\n",
              "      <th>2</th>\n",
              "      <td>1eaf90ac73de72</td>\n",
              "      <td>6a4a42c3245a74</td>\n",
              "      <td>110163d8bb94ae</td>\n",
              "      <td>1</td>\n",
              "      <td>0</td>\n",
              "      <td>68.00</td>\n",
              "      <td>0</td>\n",
              "      <td>0</td>\n",
              "      <td>0</td>\n",
              "      <td>47</td>\n",
              "      <td>...</td>\n",
              "      <td>0</td>\n",
              "      <td>0.0000</td>\n",
              "      <td>0</td>\n",
              "      <td>0.00</td>\n",
              "      <td>0</td>\n",
              "      <td>0</td>\n",
              "      <td>161.80</td>\n",
              "      <td>2</td>\n",
              "      <td>0</td>\n",
              "      <td>0.7755</td>\n",
              "    </tr>\n",
              "    <tr>\n",
              "      <th>3</th>\n",
              "      <td>4616d365dd2853</td>\n",
              "      <td>a930a9c79cd721</td>\n",
              "      <td>f1f1f4ef412d7e</td>\n",
              "      <td>0</td>\n",
              "      <td>0</td>\n",
              "      <td>32.90</td>\n",
              "      <td>0</td>\n",
              "      <td>0</td>\n",
              "      <td>0</td>\n",
              "      <td>75</td>\n",
              "      <td>...</td>\n",
              "      <td>0</td>\n",
              "      <td>0.0000</td>\n",
              "      <td>0</td>\n",
              "      <td>0.00</td>\n",
              "      <td>0</td>\n",
              "      <td>0</td>\n",
              "      <td>202.70</td>\n",
              "      <td>3</td>\n",
              "      <td>0</td>\n",
              "      <td>0.1667</td>\n",
              "    </tr>\n",
              "    <tr>\n",
              "      <th>4</th>\n",
              "      <td>315c96c26c9aac</td>\n",
              "      <td>de04010b3458dd</td>\n",
              "      <td>6dc8ff871e21e6</td>\n",
              "      <td>0</td>\n",
              "      <td>0</td>\n",
              "      <td>100.00</td>\n",
              "      <td>0</td>\n",
              "      <td>0</td>\n",
              "      <td>0</td>\n",
              "      <td>45</td>\n",
              "      <td>...</td>\n",
              "      <td>0</td>\n",
              "      <td>0.0000</td>\n",
              "      <td>0</td>\n",
              "      <td>0.00</td>\n",
              "      <td>0</td>\n",
              "      <td>0</td>\n",
              "      <td>49.75</td>\n",
              "      <td>2</td>\n",
              "      <td>0</td>\n",
              "      <td>0.1875</td>\n",
              "    </tr>\n",
              "  </tbody>\n",
              "</table>\n",
              "<p>5 rows × 29 columns</p>\n",
              "</div>\n",
              "      <button class=\"colab-df-convert\" onclick=\"convertToInteractive('df-ceb79192-9700-47ae-b9ef-6a13abaf5add')\"\n",
              "              title=\"Convert this dataframe to an interactive table.\"\n",
              "              style=\"display:none;\">\n",
              "        \n",
              "  <svg xmlns=\"http://www.w3.org/2000/svg\" height=\"24px\"viewBox=\"0 0 24 24\"\n",
              "       width=\"24px\">\n",
              "    <path d=\"M0 0h24v24H0V0z\" fill=\"none\"/>\n",
              "    <path d=\"M18.56 5.44l.94 2.06.94-2.06 2.06-.94-2.06-.94-.94-2.06-.94 2.06-2.06.94zm-11 1L8.5 8.5l.94-2.06 2.06-.94-2.06-.94L8.5 2.5l-.94 2.06-2.06.94zm10 10l.94 2.06.94-2.06 2.06-.94-2.06-.94-.94-2.06-.94 2.06-2.06.94z\"/><path d=\"M17.41 7.96l-1.37-1.37c-.4-.4-.92-.59-1.43-.59-.52 0-1.04.2-1.43.59L10.3 9.45l-7.72 7.72c-.78.78-.78 2.05 0 2.83L4 21.41c.39.39.9.59 1.41.59.51 0 1.02-.2 1.41-.59l7.78-7.78 2.81-2.81c.8-.78.8-2.07 0-2.86zM5.41 20L4 18.59l7.72-7.72 1.47 1.35L5.41 20z\"/>\n",
              "  </svg>\n",
              "      </button>\n",
              "      \n",
              "  <style>\n",
              "    .colab-df-container {\n",
              "      display:flex;\n",
              "      flex-wrap:wrap;\n",
              "      gap: 12px;\n",
              "    }\n",
              "\n",
              "    .colab-df-convert {\n",
              "      background-color: #E8F0FE;\n",
              "      border: none;\n",
              "      border-radius: 50%;\n",
              "      cursor: pointer;\n",
              "      display: none;\n",
              "      fill: #1967D2;\n",
              "      height: 32px;\n",
              "      padding: 0 0 0 0;\n",
              "      width: 32px;\n",
              "    }\n",
              "\n",
              "    .colab-df-convert:hover {\n",
              "      background-color: #E2EBFA;\n",
              "      box-shadow: 0px 1px 2px rgba(60, 64, 67, 0.3), 0px 1px 3px 1px rgba(60, 64, 67, 0.15);\n",
              "      fill: #174EA6;\n",
              "    }\n",
              "\n",
              "    [theme=dark] .colab-df-convert {\n",
              "      background-color: #3B4455;\n",
              "      fill: #D2E3FC;\n",
              "    }\n",
              "\n",
              "    [theme=dark] .colab-df-convert:hover {\n",
              "      background-color: #434B5C;\n",
              "      box-shadow: 0px 1px 3px 1px rgba(0, 0, 0, 0.15);\n",
              "      filter: drop-shadow(0px 1px 2px rgba(0, 0, 0, 0.3));\n",
              "      fill: #FFFFFF;\n",
              "    }\n",
              "  </style>\n",
              "\n",
              "      <script>\n",
              "        const buttonEl =\n",
              "          document.querySelector('#df-ceb79192-9700-47ae-b9ef-6a13abaf5add button.colab-df-convert');\n",
              "        buttonEl.style.display =\n",
              "          google.colab.kernel.accessAllowed ? 'block' : 'none';\n",
              "\n",
              "        async function convertToInteractive(key) {\n",
              "          const element = document.querySelector('#df-ceb79192-9700-47ae-b9ef-6a13abaf5add');\n",
              "          const dataTable =\n",
              "            await google.colab.kernel.invokeFunction('convertToInteractive',\n",
              "                                                     [key], {});\n",
              "          if (!dataTable) return;\n",
              "\n",
              "          const docLinkHtml = 'Like what you see? Visit the ' +\n",
              "            '<a target=\"_blank\" href=https://colab.research.google.com/notebooks/data_table.ipynb>data table notebook</a>'\n",
              "            + ' to learn more about interactive tables.';\n",
              "          element.innerHTML = '';\n",
              "          dataTable['output_type'] = 'display_data';\n",
              "          await google.colab.output.renderOutput(dataTable, element);\n",
              "          const docLink = document.createElement('div');\n",
              "          docLink.innerHTML = docLinkHtml;\n",
              "          element.appendChild(docLink);\n",
              "        }\n",
              "      </script>\n",
              "    </div>\n",
              "  </div>\n",
              "  "
            ]
          },
          "metadata": {},
          "execution_count": 6
        }
      ]
    },
    {
      "cell_type": "markdown",
      "source": [
        "Average kills per person"
      ],
      "metadata": {
        "id": "Jx9ZekioZzwm"
      }
    },
    {
      "cell_type": "code",
      "source": [
        "df2['kills'].mean()"
      ],
      "metadata": {
        "colab": {
          "base_uri": "https://localhost:8080/"
        },
        "id": "WdwrzdexZ2UO",
        "outputId": "71d0dd1b-eb9a-47b8-c0db-3627aa1a6a9f"
      },
      "execution_count": null,
      "outputs": [
        {
          "output_type": "execute_result",
          "data": {
            "text/plain": [
              "0.9247833241810259"
            ]
          },
          "metadata": {},
          "execution_count": 20
        }
      ]
    },
    {
      "cell_type": "markdown",
      "source": [
        "Visualize kill count"
      ],
      "metadata": {
        "id": "56z8TOiWaMbq"
      }
    },
    {
      "cell_type": "code",
      "source": [
        "df2['kills'].quantile(0.8) # 80% of people has 2 or less than 2 kills"
      ],
      "metadata": {
        "colab": {
          "base_uri": "https://localhost:8080/"
        },
        "id": "gMbMuaQMZ7Cb",
        "outputId": "98e7bccd-86e7-4a2c-f5d6-f15c7741e475"
      },
      "execution_count": null,
      "outputs": [
        {
          "output_type": "execute_result",
          "data": {
            "text/plain": [
              "2.0"
            ]
          },
          "metadata": {},
          "execution_count": 21
        }
      ]
    },
    {
      "cell_type": "code",
      "source": [
        "df2['kills'].max()"
      ],
      "metadata": {
        "colab": {
          "base_uri": "https://localhost:8080/"
        },
        "id": "4T5rd_nZaGsx",
        "outputId": "a3396346-9c93-4d99-cc7c-b98316a9575f"
      },
      "execution_count": null,
      "outputs": [
        {
          "output_type": "execute_result",
          "data": {
            "text/plain": [
              "72"
            ]
          },
          "metadata": {},
          "execution_count": 22
        }
      ]
    },
    {
      "cell_type": "code",
      "source": [
        "df2['kills'].quantile(0.99)"
      ],
      "metadata": {
        "colab": {
          "base_uri": "https://localhost:8080/"
        },
        "id": "PSi0ijPCaPri",
        "outputId": "609f46c7-9906-4d10-da6a-9e39aa9c8ff9"
      },
      "execution_count": null,
      "outputs": [
        {
          "output_type": "execute_result",
          "data": {
            "text/plain": [
              "7.0"
            ]
          },
          "metadata": {},
          "execution_count": 23
        }
      ]
    },
    {
      "cell_type": "code",
      "source": [],
      "metadata": {
        "id": "wBzpZXSxgk2S"
      },
      "execution_count": null,
      "outputs": []
    },
    {
      "cell_type": "markdown",
      "source": [
        "Group players based on number of kills"
      ],
      "metadata": {
        "id": "MqJEM9gdenO2"
      }
    },
    {
      "cell_type": "code",
      "source": [
        "kills = df2.copy()\n",
        "kills['kill_cat'] = pd.cut(x = kills['kills'], bins = [-1,0,2,5,10,60], labels = ['0 kill','0 to 2 kills','2 to 4 kill','5 to 9 kill','10+'])\n",
        "plt.figure(figsize=(14,7))\n",
        "sns.boxplot(x = 'kill_cat', y = 'winPlacePerc', data=kills)\n",
        "plt.show()"
      ],
      "metadata": {
        "colab": {
          "base_uri": "https://localhost:8080/",
          "height": 379
        },
        "id": "D3iO_blSerZA",
        "outputId": "9b94ff62-b64d-4ade-a0b1-2cfef4c7d991"
      },
      "execution_count": null,
      "outputs": [
        {
          "output_type": "display_data",
          "data": {
            "text/plain": [
              "<Figure size 1400x700 with 1 Axes>"
            ],
            "image/png": "[encoded data removed]"
          },
          "metadata": {}
        }
      ]
    }
  ]
}