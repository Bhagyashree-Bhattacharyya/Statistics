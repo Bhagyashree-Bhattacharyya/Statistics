{
  "nbformat": 4,
  "nbformat_minor": 0,
  "metadata": {
    "colab": {
      "provenance": [],
      "authorship_tag": "ABX9TyMWCyJ51uOpRLn3fsEQE8L5",
      "include_colab_link": true
    },
    "kernelspec": {
      "name": "python3",
      "display_name": "Python 3"
    },
    "language_info": {
      "name": "python"
    }
  },
  "cells": [
    {
      "cell_type": "markdown",
      "metadata": {
        "id": "view-in-github",
        "colab_type": "text"
      },
      "source": [
        "<a href=\"https://colab.research.google.com/github/Bhagyashree-Bhattacharyya/Statistics/blob/main/LinearRegression_NormalEquation.ipynb\" target=\"_parent\"><img src=\"https://colab.research.google.com/assets/colab-badge.svg\" alt=\"Open In Colab\"/></a>"
      ]
    },
    {
      "cell_type": "code",
      "execution_count": 1,
      "metadata": {
        "id": "SmvYJl2Zkf8M"
      },
      "outputs": [],
      "source": [
        "import sklearn\n",
        "import numpy as np\n",
        "import matplotlib as mpl\n",
        "import matplotlib.pyplot as plt"
      ]
    },
    {
      "cell_type": "code",
      "source": [
        "np.random.seed(50)\n",
        "X = 2 * np.random.rand(100,1)\n",
        "y = 4 + 3*X + np.random.randn(100,1) # noise in the data"
      ],
      "metadata": {
        "id": "TC9x3PuykwTh"
      },
      "execution_count": 2,
      "outputs": []
    },
    {
      "cell_type": "code",
      "source": [
        "plt.plot(X,y,'bo')\n",
        "plt.xlabel(\"X\")\n",
        "plt.ylabel(\"Y\")\n",
        "plt.axis([0,2,0,15])\n",
        "plt.show()"
      ],
      "metadata": {
        "colab": {
          "base_uri": "https://localhost:8080/",
          "height": 449
        },
        "id": "SXyr7s0fk1v2",
        "outputId": "df39de5d-49c4-4973-c593-62458f2b3246"
      },
      "execution_count": 3,
      "outputs": [
        {
          "output_type": "display_data",
          "data": {
            "text/plain": [
              "<Figure size 640x480 with 1 Axes>"
            ],
            "image/png": "[encoded data removed]"
          },
          "metadata": {}
        }
      ]
    },
    {
      "cell_type": "code",
      "source": [
        "X.shape"
      ],
      "metadata": {
        "colab": {
          "base_uri": "https://localhost:8080/"
        },
        "id": "SDIt1pZ1k5f_",
        "outputId": "12976203-f4a1-4e61-aea5-89d4e5909b6a"
      },
      "execution_count": 4,
      "outputs": [
        {
          "output_type": "execute_result",
          "data": {
            "text/plain": [
              "(100, 1)"
            ]
          },
          "metadata": {},
          "execution_count": 4
        }
      ]
    },
    {
      "cell_type": "code",
      "source": [
        "X_b = np.c_[np.ones((100,1)),X] # add x0 = 1 for each instance\n",
        "X_b.shape"
      ],
      "metadata": {
        "colab": {
          "base_uri": "https://localhost:8080/"
        },
        "id": "cOwBtwDwk8am",
        "outputId": "54fe033c-aca9-4e8c-c610-c903c3b16117"
      },
      "execution_count": 5,
      "outputs": [
        {
          "output_type": "execute_result",
          "data": {
            "text/plain": [
              "(100, 2)"
            ]
          },
          "metadata": {},
          "execution_count": 5
        }
      ]
    },
    {
      "cell_type": "code",
      "source": [
        "X_b"
      ],
      "metadata": {
        "colab": {
          "base_uri": "https://localhost:8080/"
        },
        "id": "h6OI4P29k_v_",
        "outputId": "5d579ea5-78c3-4f8c-894b-2ea4af3ac089"
      },
      "execution_count": 6,
      "outputs": [
        {
          "output_type": "execute_result",
          "data": {
            "text/plain": [
              "array([[1.        , 0.98920329],\n",
              "       [1.        , 0.45616621],\n",
              "       [1.        , 0.51094785],\n",
              "       [1.        , 0.79265982],\n",
              "       [1.        , 0.7546302 ],\n",
              "       [1.        , 1.99314846],\n",
              "       [1.        , 0.8163944 ],\n",
              "       [1.        , 1.54378799],\n",
              "       [1.        , 1.52107338],\n",
              "       [1.        , 0.6200187 ],\n",
              "       [1.        , 0.69308241],\n",
              "       [1.        , 0.70352963],\n",
              "       [1.        , 0.29093371],\n",
              "       [1.        , 1.94532937],\n",
              "       [1.        , 1.81835688],\n",
              "       [1.        , 1.11991421],\n",
              "       [1.        , 0.62718149],\n",
              "       [1.        , 1.77640008],\n",
              "       [1.        , 1.34914613],\n",
              "       [1.        , 0.7821749 ],\n",
              "       [1.        , 1.01436825],\n",
              "       [1.        , 1.04820701],\n",
              "       [1.        , 1.85600186],\n",
              "       [1.        , 1.14274614],\n",
              "       [1.        , 1.33667514],\n",
              "       [1.        , 0.10451738],\n",
              "       [1.        , 0.65411461],\n",
              "       [1.        , 0.11280328],\n",
              "       [1.        , 0.35965539],\n",
              "       [1.        , 1.85186635],\n",
              "       [1.        , 1.87603045],\n",
              "       [1.        , 1.42818541],\n",
              "       [1.        , 1.46537522],\n",
              "       [1.        , 0.92349535],\n",
              "       [1.        , 1.86265854],\n",
              "       [1.        , 0.81284049],\n",
              "       [1.        , 1.36641154],\n",
              "       [1.        , 1.29983174],\n",
              "       [1.        , 1.19753036],\n",
              "       [1.        , 0.44407878],\n",
              "       [1.        , 1.36471434],\n",
              "       [1.        , 1.75611261],\n",
              "       [1.        , 1.59343453],\n",
              "       [1.        , 0.8640045 ],\n",
              "       [1.        , 1.83575644],\n",
              "       [1.        , 1.56366736],\n",
              "       [1.        , 1.45150056],\n",
              "       [1.        , 0.24970939],\n",
              "       [1.        , 1.8326169 ],\n",
              "       [1.        , 0.77542199],\n",
              "       [1.        , 0.58985909],\n",
              "       [1.        , 1.23346283],\n",
              "       [1.        , 0.93569246],\n",
              "       [1.        , 0.51067783],\n",
              "       [1.        , 1.67799178],\n",
              "       [1.        , 0.3572384 ],\n",
              "       [1.        , 0.45422834],\n",
              "       [1.        , 1.31975289],\n",
              "       [1.        , 0.95823249],\n",
              "       [1.        , 0.14689468],\n",
              "       [1.        , 0.27792014],\n",
              "       [1.        , 0.22461437],\n",
              "       [1.        , 0.95556993],\n",
              "       [1.        , 1.08059246],\n",
              "       [1.        , 1.9161421 ],\n",
              "       [1.        , 1.16758462],\n",
              "       [1.        , 1.05332818],\n",
              "       [1.        , 1.84452538],\n",
              "       [1.        , 1.83851403],\n",
              "       [1.        , 0.50401773],\n",
              "       [1.        , 1.36526522],\n",
              "       [1.        , 1.92855224],\n",
              "       [1.        , 0.45392329],\n",
              "       [1.        , 1.4320344 ],\n",
              "       [1.        , 1.59552021],\n",
              "       [1.        , 1.8735024 ],\n",
              "       [1.        , 1.70744499],\n",
              "       [1.        , 0.84309161],\n",
              "       [1.        , 0.01087974],\n",
              "       [1.        , 0.06973066],\n",
              "       [1.        , 0.02781073],\n",
              "       [1.        , 1.17781986],\n",
              "       [1.        , 0.76598619],\n",
              "       [1.        , 0.2296379 ],\n",
              "       [1.        , 1.72890802],\n",
              "       [1.        , 1.64331406],\n",
              "       [1.        , 1.47498337],\n",
              "       [1.        , 1.68068834],\n",
              "       [1.        , 0.80305821],\n",
              "       [1.        , 1.49724   ],\n",
              "       [1.        , 1.11925889],\n",
              "       [1.        , 1.22647515],\n",
              "       [1.        , 0.5962033 ],\n",
              "       [1.        , 1.20475835],\n",
              "       [1.        , 0.85135368],\n",
              "       [1.        , 1.07708877],\n",
              "       [1.        , 0.97345971],\n",
              "       [1.        , 0.99978328],\n",
              "       [1.        , 1.83491897],\n",
              "       [1.        , 0.52575404]])"
            ]
          },
          "metadata": {},
          "execution_count": 6
        }
      ]
    },
    {
      "cell_type": "code",
      "source": [
        "theta_best = np.linalg.inv(X_b.T.dot(X_b)).dot(X_b.T).dot(y) # Normal equation"
      ],
      "metadata": {
        "id": "bQBuao8MlEBj"
      },
      "execution_count": 7,
      "outputs": []
    },
    {
      "cell_type": "code",
      "source": [
        "theta_best # intercept and co-efficient"
      ],
      "metadata": {
        "colab": {
          "base_uri": "https://localhost:8080/"
        },
        "id": "HKdbk-B8lPG8",
        "outputId": "94f38523-9cb1-4b3e-a5fd-b25338978845"
      },
      "execution_count": 8,
      "outputs": [
        {
          "output_type": "execute_result",
          "data": {
            "text/plain": [
              "array([[3.89174673],\n",
              "       [2.88440032]])"
            ]
          },
          "metadata": {},
          "execution_count": 8
        }
      ]
    },
    {
      "cell_type": "code",
      "source": [
        "X_new = np.array([[0],[3]])\n",
        "X_new_b = np.c_[np.ones((2,1)),X_new] # x0=1\n",
        "y_predict = X_new_b.dot(theta_best)\n",
        "y_predict"
      ],
      "metadata": {
        "colab": {
          "base_uri": "https://localhost:8080/"
        },
        "id": "2S0-EIbklSCD",
        "outputId": "71edb9b5-26bb-4243-9708-2f8974fd030a"
      },
      "execution_count": 9,
      "outputs": [
        {
          "output_type": "execute_result",
          "data": {
            "text/plain": [
              "array([[ 3.89174673],\n",
              "       [12.54494771]])"
            ]
          },
          "metadata": {},
          "execution_count": 9
        }
      ]
    },
    {
      "cell_type": "code",
      "source": [
        "plt.plot(X_new,y_predict, \"r-\",label='Regression line')\n",
        "plt.plot(X,y,'bo')\n",
        "plt.xlabel(\"X\")\n",
        "plt.ylabel(\"Y\")\n",
        "plt.axis([0,2,0,15])\n",
        "plt.legend()\n",
        "plt.show()"
      ],
      "metadata": {
        "colab": {
          "base_uri": "https://localhost:8080/",
          "height": 449
        },
        "id": "L2BY5onhlU_-",
        "outputId": "b912e09a-1c1e-4bd8-ac1c-db33ad75e259"
      },
      "execution_count": 10,
      "outputs": [
        {
          "output_type": "display_data",
          "data": {
            "text/plain": [
              "<Figure size 640x480 with 1 Axes>"
            ],
            "image/png": "[encoded data removed]"
          },
          "metadata": {}
        }
      ]
    }
  ]
}